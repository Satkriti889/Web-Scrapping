{
 "cells": [
  {
   "cell_type": "markdown",
   "id": "6bddda77",
   "metadata": {
    "vscode": {
     "languageId": "plaintext"
    }
   },
   "source": [
    "* Introduction to Selenium\n",
    "* Selenium is a tool that automates a real web browser. It's like a robot sitting at your computer, opening Chrome or Firefox, and interacting with pages just like a human would.\n",
    "* Because it uses a real browser, the browser will execute all the JavaScript, and Selenium can then access the final, rendered HTML.\n",
    "* Setup\n",
    "* You need two things:\n",
    "* The selenium Python library.\n",
    "* A WebDriver, which is a separate program that Selenium uses to control a specific browser. The most common is ChromeDriver for Google Chrome.\n",
    "* Installation:\n",
    "* !pip install selenium\n",
    "* Download ChromeDriver: https://googlechromelabs.github.io/chrome-for-driver/. Make sure its version matches your installed Chrome browser version. Unzip it and place the chromedriver.exe (or chromedriver on Mac/Linux) in a known location or in the same folder as your notebook."
   ]
  },
  {
   "cell_type": "code",
   "execution_count": 7,
   "id": "75389991",
   "metadata": {},
   "outputs": [],
   "source": [
    "from selenium import webdriver\n",
    "from selenium.webdriver.common.by import By\n",
    "from selenium.webdriver.chrome.service import Service\n",
    "from selenium.webdriver.support.ui import WebDriverWait\n",
    "from selenium.webdriver.support import expected_conditions as EC\n"
   ]
  },
  {
   "cell_type": "code",
   "execution_count": 15,
   "id": "c3fc70a3",
   "metadata": {},
   "outputs": [],
   "source": [
    "import requests\n",
    "import time\n",
    "from bs4 import BeautifulSoup\n",
    "import pandas as pd\n",
    "\n"
   ]
  },
  {
   "cell_type": "code",
   "execution_count": 26,
   "id": "0c7ee1ca",
   "metadata": {},
   "outputs": [
    {
     "name": "stdout",
     "output_type": "stream",
     "text": [
      "Page loaded and quotes are present\n",
      "Found 10 quotes using Selenium\n",
      "-- '“The world as we have created it is a process of our thinking. It cannot be changed without changing our thinking.”' by Albert Einstein\n",
      "-- '“It is our choices, Harry, that show what we truly are, far more than our abilities.”' by J.K. Rowling\n",
      "-- '“There are only two ways to live your life. One is as though nothing is a miracle. The other is as though everything is a miracle.”' by Albert Einstein\n",
      "-- '“The person, be it gentleman or lady, who has not pleasure in a good novel, must be intolerably stupid.”' by Jane Austen\n",
      "-- '“Imperfection is beauty, madness is genius and it's better to be absolutely ridiculous than absolutely boring.”' by Marilyn Monroe\n",
      "-- '“Try not to become a man of success. Rather become a man of value.”' by Albert Einstein\n",
      "-- '“It is better to be hated for what you are than to be loved for what you are not.”' by André Gide\n",
      "-- '“I have not failed. I've just found 10,000 ways that won't work.”' by Thomas A. Edison\n",
      "-- '“A woman is like a tea bag; you never know how strong it is until it's in hot water.”' by Eleanor Roosevelt\n",
      "-- '“A day without sunshine is like, you know, night.”' by Steve Martin\n",
      "\n",
      "Browser closed\n"
     ]
    }
   ],
   "source": [
    "s=Service('chromedriver-win64/chromedriver.exe')\n",
    "driver = webdriver.Chrome(service=s)\n",
    "\n",
    "try:\n",
    "    dynaminc_url=\"http://quotes.toscrape.com/js/\"\n",
    "    driver.get(dynaminc_url)\n",
    "\n",
    "    wait=WebDriverWait(driver,10)\n",
    "    wait.until(EC.presence_of_element_located((By.CLASS_NAME,\"container\")))\n",
    "\n",
    "    print(\"Page loaded and quotes are present\")\n",
    "\n",
    "    page_source=driver.page_source\n",
    "    soup = BeautifulSoup(page_source,'html.parser')\n",
    "\n",
    "    quotes= soup.find_all('div',class_='quote')\n",
    "    print(f\"Found {len(quotes)} quotes using Selenium\")\n",
    "\n",
    "    for quote in quotes:\n",
    "        text = quote.find('span',class_='text').text\n",
    "        author=quote.find('small',class_='author').text\n",
    "        print(f\"-- '{text}' by {author}\")\n",
    "finally:\n",
    "    if 'driver' in locals():\n",
    "        driver.quit()\n",
    "        print(\"\\nBrowser closed\")"
   ]
  },
  {
   "cell_type": "code",
   "execution_count": null,
   "id": "4959ab38",
   "metadata": {},
   "outputs": [],
   "source": [
    "from selenium import webdriver\n",
    "from selenium.webdriver.chrome.service import Service\n",
    "from selenium.webdriver.chrome.options import Options\n",
    "from selenium.webdriver.common.by import By\n",
    "from selenium.webdriver.support.ui import WebDriverWait\n",
    "from selenium.webdriver.support import expected_conditions as EC\n",
    "\n",
    "chrome_options = Options()\n",
    "chrome_options.add_argument('--headless')\n",
    "chrome_options.add_argument('--disable-gpu')\n",
    "chrome_options.add_argument('--no-sandbox')\n",
    "chrome_options.add_argument(\"user-agent=Mozilla/5.0\")\n",
    "\n",
    "s= Service('chrome driver-win64/chromedriver.exe')\n",
    "driver=webdriver.Chrome(service=s,options=chrome_options)\n",
    "\n",
    "try:\n",
    "    url=\"\"\n"
   ]
  }
 ],
 "metadata": {
  "kernelspec": {
   "display_name": "venv",
   "language": "python",
   "name": "python3"
  },
  "language_info": {
   "codemirror_mode": {
    "name": "ipython",
    "version": 3
   },
   "file_extension": ".py",
   "mimetype": "text/x-python",
   "name": "python",
   "nbconvert_exporter": "python",
   "pygments_lexer": "ipython3",
   "version": "3.12.1"
  }
 },
 "nbformat": 4,
 "nbformat_minor": 5
}
